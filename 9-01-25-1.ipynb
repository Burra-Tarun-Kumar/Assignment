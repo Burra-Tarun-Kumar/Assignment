{
  "nbformat": 4,
  "nbformat_minor": 0,
  "metadata": {
    "colab": {
      "provenance": [],
      "authorship_tag": "ABX9TyPmW+TjmjK1HD1j9OKKypIl",
      "include_colab_link": true
    },
    "kernelspec": {
      "name": "python3",
      "display_name": "Python 3"
    },
    "language_info": {
      "name": "python"
    }
  },
  "cells": [
    {
      "cell_type": "markdown",
      "metadata": {
        "id": "view-in-github",
        "colab_type": "text"
      },
      "source": [
        "<a href=\"https://colab.research.google.com/github/Burra-Tarun-Kumar/Assignment/blob/main/9-01-25-1.ipynb\" target=\"_parent\"><img src=\"https://colab.research.google.com/assets/colab-badge.svg\" alt=\"Open In Colab\"/></a>"
      ]
    },
    {
      "cell_type": "code",
      "execution_count": null,
      "metadata": {
        "colab": {
          "base_uri": "https://localhost:8080/"
        },
        "id": "w2DLaDCfN37O",
        "outputId": "ae0a8ac4-1a98-4796-e31c-9838ba5f2aeb"
      },
      "outputs": [
        {
          "output_type": "stream",
          "name": "stdout",
          "text": [
            "[1, 'hi', 'string', 7, 'tarun']\n",
            "5\n"
          ]
        }
      ],
      "source": [
        "l1=[1,'hi','string',7,'tarun']\n",
        "print(l1)\n",
        "print(len(l1))"
      ]
    },
    {
      "cell_type": "code",
      "source": [
        "l1.append(\"kumar\")"
      ],
      "metadata": {
        "id": "H-kBPgWWN69w"
      },
      "execution_count": null,
      "outputs": []
    },
    {
      "cell_type": "code",
      "source": [
        "print(l1)"
      ],
      "metadata": {
        "colab": {
          "base_uri": "https://localhost:8080/"
        },
        "id": "aFiLp1gnOClH",
        "outputId": "b699e7d0-1435-42fb-a2ba-5155febc36c0"
      },
      "execution_count": null,
      "outputs": [
        {
          "output_type": "stream",
          "name": "stdout",
          "text": [
            "[1, 'hi', 'string', 7, 'tarun', 'kumar']\n"
          ]
        }
      ]
    },
    {
      "cell_type": "code",
      "source": [
        "l1[3]"
      ],
      "metadata": {
        "colab": {
          "base_uri": "https://localhost:8080/"
        },
        "id": "9hV7VO8FOFX3",
        "outputId": "49d1adb1-354e-428c-ef91-1793f0396e61"
      },
      "execution_count": null,
      "outputs": [
        {
          "output_type": "execute_result",
          "data": {
            "text/plain": [
              "7"
            ]
          },
          "metadata": {},
          "execution_count": 5
        }
      ]
    },
    {
      "cell_type": "markdown",
      "source": [
        "# **Insert**"
      ],
      "metadata": {
        "id": "KvBHFHrbOqV3"
      }
    },
    {
      "cell_type": "code",
      "source": [
        "l1.insert(2,\"sars\")"
      ],
      "metadata": {
        "id": "d8zd_2TUOIhQ"
      },
      "execution_count": null,
      "outputs": []
    },
    {
      "cell_type": "code",
      "source": [
        "print(l1)"
      ],
      "metadata": {
        "colab": {
          "base_uri": "https://localhost:8080/"
        },
        "id": "MzbvSSG_OXDm",
        "outputId": "3aa263aa-897f-4875-e71e-241fc448fa20"
      },
      "execution_count": null,
      "outputs": [
        {
          "output_type": "stream",
          "name": "stdout",
          "text": [
            "[1, 'hi', 'sars', 'string', 7, 'tarun', 'kumar']\n"
          ]
        }
      ]
    },
    {
      "cell_type": "code",
      "source": [
        "l2=[45,18,7]"
      ],
      "metadata": {
        "id": "bEjQvN6UOZPm"
      },
      "execution_count": null,
      "outputs": []
    },
    {
      "cell_type": "code",
      "source": [
        "print(l2)"
      ],
      "metadata": {
        "colab": {
          "base_uri": "https://localhost:8080/"
        },
        "id": "QvWVPHIEO7EO",
        "outputId": "09abcf7a-8aec-434a-bfd5-c53c0a4bdebc"
      },
      "execution_count": null,
      "outputs": [
        {
          "output_type": "stream",
          "name": "stdout",
          "text": [
            "[45, 18, 7, 1, 'hi', 'sars', 'string', 7, 'tarun', 'kumar']\n"
          ]
        }
      ]
    },
    {
      "cell_type": "code",
      "source": [
        "as=[7,15,34,90]\n"
      ],
      "metadata": {
        "id": "Km8k-xnOPBZe"
      },
      "execution_count": null,
      "outputs": []
    },
    {
      "cell_type": "code",
      "source": [
        "sum(s)"
      ],
      "metadata": {
        "colab": {
          "base_uri": "https://localhost:8080/"
        },
        "id": "L40ZpFJmPHb_",
        "outputId": "c26814f1-aaaa-487a-8297-f36de127df7f"
      },
      "execution_count": null,
      "outputs": [
        {
          "output_type": "execute_result",
          "data": {
            "text/plain": [
              "146"
            ]
          },
          "metadata": {},
          "execution_count": 18
        }
      ]
    },
    {
      "cell_type": "code",
      "source": [
        "s*2"
      ],
      "metadata": {
        "colab": {
          "base_uri": "https://localhost:8080/"
        },
        "id": "uIxjHdoKPwsK",
        "outputId": "611b3d23-c7ce-42d7-a086-58636fe9dfd2"
      },
      "execution_count": null,
      "outputs": [
        {
          "output_type": "execute_result",
          "data": {
            "text/plain": [
              "[7, 15, 34, 90, 7, 15, 34, 90]"
            ]
          },
          "metadata": {},
          "execution_count": 19
        }
      ]
    },
    {
      "cell_type": "code",
      "source": [
        "s.pop()\n"
      ],
      "metadata": {
        "colab": {
          "base_uri": "https://localhost:8080/"
        },
        "id": "tTjrCNK6QN5v",
        "outputId": "760570f3-65b9-4fbc-e1f6-3e0cf05a7cf3"
      },
      "execution_count": null,
      "outputs": [
        {
          "output_type": "execute_result",
          "data": {
            "text/plain": [
              "15"
            ]
          },
          "metadata": {},
          "execution_count": 22
        }
      ]
    },
    {
      "cell_type": "code",
      "source": [
        "s.pop(0)"
      ],
      "metadata": {
        "colab": {
          "base_uri": "https://localhost:8080/"
        },
        "id": "UvIXVpYKQQ0-",
        "outputId": "8b2e75b4-f064-47f5-d86f-ef9385d013bf"
      },
      "execution_count": null,
      "outputs": [
        {
          "output_type": "execute_result",
          "data": {
            "text/plain": [
              "7"
            ]
          },
          "metadata": {},
          "execution_count": 23
        }
      ]
    },
    {
      "cell_type": "code",
      "source": [
        "s.count\n"
      ],
      "metadata": {
        "colab": {
          "base_uri": "https://localhost:8080/"
        },
        "id": "Ma8hc57oQkmv",
        "outputId": "b65f56a5-ba9b-4c74-d6b9-f2946cfa4b96"
      },
      "execution_count": null,
      "outputs": [
        {
          "output_type": "execute_result",
          "data": {
            "text/plain": [
              "<function list.count(value, /)>"
            ]
          },
          "metadata": {},
          "execution_count": 24
        }
      ]
    },
    {
      "cell_type": "code",
      "source": [
        "s.count(90)"
      ],
      "metadata": {
        "colab": {
          "base_uri": "https://localhost:8080/"
        },
        "id": "k61V5uGLQ6RA",
        "outputId": "9cde5447-1681-4a32-f3e1-c95f96e3a155"
      },
      "execution_count": null,
      "outputs": [
        {
          "output_type": "execute_result",
          "data": {
            "text/plain": [
              "0"
            ]
          },
          "metadata": {},
          "execution_count": 27
        }
      ]
    },
    {
      "cell_type": "code",
      "source": [
        "print(s)"
      ],
      "metadata": {
        "colab": {
          "base_uri": "https://localhost:8080/"
        },
        "id": "iAbY4ZybRB_e",
        "outputId": "34a45cf8-6dae-42d7-adb3-ff06032c1657"
      },
      "execution_count": null,
      "outputs": [
        {
          "output_type": "stream",
          "name": "stdout",
          "text": [
            "[]\n"
          ]
        }
      ]
    },
    {
      "cell_type": "code",
      "source": [
        "s.append(45)"
      ],
      "metadata": {
        "id": "-KFEN9BjRO5n"
      },
      "execution_count": null,
      "outputs": []
    },
    {
      "cell_type": "code",
      "source": [
        "s.append(78)"
      ],
      "metadata": {
        "id": "9T1Zs6ClRV6G"
      },
      "execution_count": null,
      "outputs": []
    },
    {
      "cell_type": "code",
      "source": [
        "s.append(2)"
      ],
      "metadata": {
        "id": "_UdxAEuJRrTW"
      },
      "execution_count": null,
      "outputs": []
    },
    {
      "cell_type": "code",
      "source": [
        "print(s)"
      ],
      "metadata": {
        "colab": {
          "base_uri": "https://localhost:8080/"
        },
        "id": "lvz0iA9BRtH2",
        "outputId": "fcfd7428-9b84-49dc-c0c0-ce486ca19c9d"
      },
      "execution_count": null,
      "outputs": [
        {
          "output_type": "stream",
          "name": "stdout",
          "text": [
            "[45, 78, 2]\n"
          ]
        }
      ]
    },
    {
      "cell_type": "code",
      "source": [
        "import pandas as pd\n",
        "screen_time=[2,4,6,7,1]\n",
        "study_hours=[9,7,3,6,8]\n",
        "stu_name=[\"Tarun\",\"Aryan\",\"Chandu\",\"BVR\",\"rohith\"]\n",
        "dict1={\n",
        "    'screen_time':screen_time,\n",
        "    'study_hours':study_hours,\n",
        "    'stu_name':stu_name\n",
        "}\n",
        "df=pd.DataFrame(dict1)\n",
        "print(df)\n"
      ],
      "metadata": {
        "id": "egYrX_UhRu0e",
        "colab": {
          "base_uri": "https://localhost:8080/"
        },
        "outputId": "65c9f571-697c-4a78-af1b-757886b9b5a2"
      },
      "execution_count": null,
      "outputs": [
        {
          "output_type": "stream",
          "name": "stdout",
          "text": [
            "   screen_time  study_hours stu_name\n",
            "0            2            9    Tarun\n",
            "1            4            7    Aryan\n",
            "2            6            3   Chandu\n",
            "3            7            6      BVR\n",
            "4            1            8   rohith\n"
          ]
        }
      ]
    },
    {
      "cell_type": "code",
      "source": [
        "list=[1,2,3,4,5,6]\n",
        "res=[i for i in list if i<4]\n",
        "print(res)\n",
        "res1=[i for i in list if i%2==0]\n",
        "print(res1)"
      ],
      "metadata": {
        "colab": {
          "base_uri": "https://localhost:8080/"
        },
        "id": "qedc3D1WOzpG",
        "outputId": "e39916d8-a193-4ef6-f35a-c9f552feb90b"
      },
      "execution_count": null,
      "outputs": [
        {
          "output_type": "stream",
          "name": "stdout",
          "text": [
            "[1, 2, 3]\n",
            "[2, 4, 6]\n"
          ]
        }
      ]
    },
    {
      "cell_type": "code",
      "source": [
        "keys=[\"names\",\"age\",\"city\"]\n",
        "values=[\"banglore\",30,\"tarun\"]\n",
        "dict1={k:v for k,v in zip(keys,values)}\n",
        "print(dict1)"
      ],
      "metadata": {
        "colab": {
          "base_uri": "https://localhost:8080/"
        },
        "id": "JwMfC9cOPGyo",
        "outputId": "a8b6049b-c353-4bf4-d2e8-47d750c482a6"
      },
      "execution_count": null,
      "outputs": [
        {
          "output_type": "stream",
          "name": "stdout",
          "text": [
            "{'names': 'banglore', 'age': 30, 'city': 'tarun'}\n"
          ]
        }
      ]
    },
    {
      "cell_type": "code",
      "source": [
        "\n",
        "add = lambda x, y: x + y\n",
        "sub = lambda x, y: x - y\n",
        "mul = lambda x, y: x * y\n",
        "div = lambda x, y: x + y\n",
        "x=10\n",
        "y=2\n",
        "print(add(x,y))\n",
        "print(sub(x,y))\n",
        "print(mul(x,y))\n",
        "print(div(x,y))"
      ],
      "metadata": {
        "id": "kcYLxSGkQuaT",
        "colab": {
          "base_uri": "https://localhost:8080/"
        },
        "outputId": "2c6e406f-c7e3-41d9-ea64-c93063cd4638"
      },
      "execution_count": null,
      "outputs": [
        {
          "output_type": "stream",
          "name": "stdout",
          "text": [
            "12\n",
            "8\n",
            "20\n",
            "12\n"
          ]
        }
      ]
    },
    {
      "cell_type": "code",
      "source": [
        "def add(x,y):\n",
        "    return lambda x, y: x + y\n",
        "def sub(x,y):\n",
        "    return lambda x, y: x - y\n",
        "def mul(x,y):\n",
        "    return lambda x, y: x * y\n",
        "def div(x,y):\n",
        "    return lambda x, y: x / y\n",
        "x=int(input())\n",
        "y=int(input())\n",
        "print(add(x,y)(x,y))\n",
        "print(sub(x,y)(x,y))\n",
        "print(mul(x,y)(x,y))\n",
        "print(div(x,y)(x,y))"
      ],
      "metadata": {
        "colab": {
          "base_uri": "https://localhost:8080/"
        },
        "id": "zLsNws8hNYBF",
        "outputId": "89ea6d6e-bc3c-4bd1-da9d-21b34259c1bc"
      },
      "execution_count": null,
      "outputs": [
        {
          "output_type": "stream",
          "name": "stdout",
          "text": [
            "12\n",
            "13\n",
            "25\n",
            "-1\n",
            "156\n",
            "0.9230769230769231\n"
          ]
        }
      ]
    },
    {
      "cell_type": "code",
      "source": [
        "l=[1,2,3,4,5,6,7,8,9]\n",
        "iterate_val=iter(l)\n",
        "print(iterate_val)"
      ],
      "metadata": {
        "colab": {
          "base_uri": "https://localhost:8080/"
        },
        "id": "CnrDBObHSBz4",
        "outputId": "dc8f3e65-9744-414a-b3a9-bf107c1deef5"
      },
      "execution_count": null,
      "outputs": [
        {
          "output_type": "stream",
          "name": "stdout",
          "text": [
            "<list_iterator object at 0x7adf299d2da0>\n"
          ]
        }
      ]
    },
    {
      "cell_type": "code",
      "source": [
        "for i in iterate_val:\n",
        "  if i%2==0:\n",
        "      print(i)"
      ],
      "metadata": {
        "id": "0OyLFb-DUGlo"
      },
      "execution_count": null,
      "outputs": []
    },
    {
      "cell_type": "code",
      "source": [
        "type(iterate_val)"
      ],
      "metadata": {
        "colab": {
          "base_uri": "https://localhost:8080/"
        },
        "id": "2eWEmGktUf5W",
        "outputId": "c684abc0-7d4e-4208-dd53-55aaee5deb70"
      },
      "execution_count": null,
      "outputs": [
        {
          "output_type": "execute_result",
          "data": {
            "text/plain": [
              "list_iterator"
            ]
          },
          "metadata": {},
          "execution_count": 19
        }
      ]
    },
    {
      "cell_type": "code",
      "source": [
        "#check the below code list and dissplay the string where the string letter is A letter or contain a letter in thestring with iterator."
      ],
      "metadata": {
        "id": "5d_Sq3G7UyQO"
      },
      "execution_count": null,
      "outputs": []
    },
    {
      "cell_type": "code",
      "source": [
        "def square(i):\n",
        "  for i in  range(i):\n",
        "    i=i+2\n",
        "    return i\n",
        "res=square(5)\n",
        "print(5)"
      ],
      "metadata": {
        "colab": {
          "base_uri": "https://localhost:8080/"
        },
        "id": "rG7QuboJadX1",
        "outputId": "d410d7c3-cf6c-461b-fce3-95e464a2f3f4"
      },
      "execution_count": null,
      "outputs": [
        {
          "output_type": "stream",
          "name": "stdout",
          "text": [
            "5\n"
          ]
        }
      ]
    },
    {
      "cell_type": "code",
      "source": [
        "def square(i):\n",
        "  for i in  range(i):\n",
        "    i=i+2\n",
        "    yield i\n",
        "res=square(5)\n",
        "square(5)\n",
        "for i in square(10):\n",
        "  print(i)"
      ],
      "metadata": {
        "colab": {
          "base_uri": "https://localhost:8080/"
        },
        "id": "E_KabAcIay61",
        "outputId": "abe617e5-d082-43e2-8da5-8faca2a84371"
      },
      "execution_count": null,
      "outputs": [
        {
          "output_type": "stream",
          "name": "stdout",
          "text": [
            "2\n",
            "3\n",
            "4\n",
            "5\n",
            "6\n",
            "7\n",
            "8\n",
            "9\n",
            "10\n",
            "11\n"
          ]
        }
      ]
    },
    {
      "cell_type": "code",
      "source": [
        "import pandas as pd\n"
      ],
      "metadata": {
        "id": "GwBgwqooa951"
      },
      "execution_count": 1,
      "outputs": []
    },
    {
      "cell_type": "code",
      "source": [
        "data = {\n",
        "    'Name': ['John', 'Alice', 'Bob', 'Diana'],\n",
        "    'Age': [28, 34, 23, 29],\n",
        "    'Department': ['HR', 'IT', 'Marketing', 'Finance'],\n",
        "    'Salary': [45000, 60000, 35000, 50000]\n",
        "}"
      ],
      "metadata": {
        "id": "zGJKEHrPwfeU"
      },
      "execution_count": 2,
      "outputs": []
    },
    {
      "cell_type": "code",
      "source": [
        "df = pd.DataFrame(data)"
      ],
      "metadata": {
        "id": "oT1F8e5SwqKI"
      },
      "execution_count": 3,
      "outputs": []
    },
    {
      "cell_type": "code",
      "source": [
        "print(df.head().to_markdown(index=False, numalign=\"left\", stralign=\"left\"))\n"
      ],
      "metadata": {
        "colab": {
          "base_uri": "https://localhost:8080/"
        },
        "id": "BPSyFtcBw0cK",
        "outputId": "6aab4b59-222f-4bfa-e7e5-150e4877e217"
      },
      "execution_count": 4,
      "outputs": [
        {
          "output_type": "stream",
          "name": "stdout",
          "text": [
            "| Name   | Age   | Department   | Salary   |\n",
            "|:-------|:------|:-------------|:---------|\n",
            "| John   | 28    | HR           | 45000    |\n",
            "| Alice  | 34    | IT           | 60000    |\n",
            "| Bob    | 23    | Marketing    | 35000    |\n",
            "| Diana  | 29    | Finance      | 50000    |\n"
          ]
        }
      ]
    },
    {
      "cell_type": "code",
      "source": [
        "print(df.info())"
      ],
      "metadata": {
        "colab": {
          "base_uri": "https://localhost:8080/"
        },
        "id": "1VplqL7DxAIn",
        "outputId": "cfd307c7-0fe7-4611-baa3-beb3ff8cae7c"
      },
      "execution_count": 5,
      "outputs": [
        {
          "output_type": "stream",
          "name": "stdout",
          "text": [
            "<class 'pandas.core.frame.DataFrame'>\n",
            "RangeIndex: 4 entries, 0 to 3\n",
            "Data columns (total 4 columns):\n",
            " #   Column      Non-Null Count  Dtype \n",
            "---  ------      --------------  ----- \n",
            " 0   Name        4 non-null      object\n",
            " 1   Age         4 non-null      int64 \n",
            " 2   Department  4 non-null      object\n",
            " 3   Salary      4 non-null      int64 \n",
            "dtypes: int64(2), object(2)\n",
            "memory usage: 256.0+ bytes\n",
            "None\n"
          ]
        }
      ]
    },
    {
      "cell_type": "code",
      "source": [],
      "metadata": {
        "id": "MZiZ9asiw6-b"
      },
      "execution_count": null,
      "outputs": []
    }
  ]
}