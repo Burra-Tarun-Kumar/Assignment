{
  "nbformat": 4,
  "nbformat_minor": 0,
  "metadata": {
    "colab": {
      "provenance": [],
      "authorship_tag": "ABX9TyOHLWjyE1Ah7OmPR/qmpy25",
      "include_colab_link": true
    },
    "kernelspec": {
      "name": "python3",
      "display_name": "Python 3"
    },
    "language_info": {
      "name": "python"
    }
  },
  "cells": [
    {
      "cell_type": "markdown",
      "metadata": {
        "id": "view-in-github",
        "colab_type": "text"
      },
      "source": [
        "<a href=\"https://colab.research.google.com/github/Burra-Tarun-Kumar/Assignment/blob/main/day23.ipynb\" target=\"_parent\"><img src=\"https://colab.research.google.com/assets/colab-badge.svg\" alt=\"Open In Colab\"/></a>"
      ]
    },
    {
      "cell_type": "code",
      "execution_count": 5,
      "metadata": {
        "colab": {
          "base_uri": "https://localhost:8080/"
        },
        "id": "xlnYOW8teWLc",
        "outputId": "d4e85963-ca8e-408f-8ad2-2d22ee7082dd"
      },
      "outputs": [
        {
          "output_type": "execute_result",
          "data": {
            "text/plain": [
              "(992.1885574140761, 49.67275240826704, 42990.64782261945, 0.9251224612323216)"
            ]
          },
          "metadata": {},
          "execution_count": 5
        }
      ],
      "source": [
        "from sklearn.model_selection import train_test_split\n",
        "from sklearn.linear_model import LinearRegression\n",
        "from sklearn.metrics import mean_squared_error, r2_score\n",
        "\n",
        "# Define independent (X) and dependent (y) variables\n",
        "X = df[[\"Building_Height\"]]\n",
        "y = df[\"Construction_Cost\"]\n",
        "\n",
        "# Split the data into training and testing sets (80% train, 20% test)\n",
        "X_train, X_test, y_train, y_test = train_test_split(X, y, test_size=0.2, random_state=42)\n",
        "\n",
        "# Create and train the linear regression model\n",
        "model = LinearRegression()\n",
        "model.fit(X_train, y_train)\n",
        "\n",
        "# Get the regression coefficients\n",
        "intercept = model.intercept_\n",
        "slope = model.coef_[0]\n",
        "\n",
        "# Predict on the test set\n",
        "y_pred = model.predict(X_test)\n",
        "\n",
        "# Evaluate model performance\n",
        "mse = mean_squared_error(y_test, y_pred)\n",
        "r2 = r2_score(y_test, y_pred)\n",
        "\n",
        "# Display results\n",
        "(intercept, slope, mse, r2)\n"
      ]
    },
    {
      "cell_type": "code",
      "source": [
        "# Define independent (X) and dependent (y) variables for multiple linear regression\n",
        "X_multi = df[[\"Building_Height\", \"Material_Quality_Index\", \"Labor_Cost\", \"Concrete_Strength\", \"Foundation_Depth\"]]\n",
        "y_multi = df[\"Construction_Cost\"]\n",
        "\n",
        "# Split the data into training and testing sets (80% train, 20% test)\n",
        "X_train_multi, X_test_multi, y_train_multi, y_test_multi = train_test_split(X_multi, y_multi, test_size=0.2, random_state=42)\n",
        "\n",
        "# Create and train the multiple linear regression model\n",
        "multi_model = LinearRegression()\n",
        "multi_model.fit(X_train_multi, y_train_multi)\n",
        "\n",
        "# Get the regression coefficients\n",
        "intercept_multi = multi_model.intercept_\n",
        "coefficients_multi = multi_model.coef_\n",
        "\n",
        "# Create a dictionary mapping features to their coefficients\n",
        "coeff_dict = dict(zip(X_multi.columns, coefficients_multi))\n",
        "\n",
        "# Find the variable with the highest absolute impact\n",
        "most_impactful_var = max(coeff_dict, key=lambda k: abs(coeff_dict[k]))\n",
        "\n",
        "# Display results\n",
        "(intercept_multi, coeff_dict, most_impactful_var)\n"
      ],
      "metadata": {
        "colab": {
          "base_uri": "https://localhost:8080/"
        },
        "id": "AIcZ1Xmxjm1R",
        "outputId": "9781819a-e526-47b7-cbce-a1d971bf4a05"
      },
      "execution_count": 6,
      "outputs": [
        {
          "output_type": "execute_result",
          "data": {
            "text/plain": [
              "(-9.639678668438592,\n",
              " {'Building_Height': 49.81132446197602,\n",
              "  'Material_Quality_Index': 10.329643633921751,\n",
              "  'Labor_Cost': 0.5263638589028599,\n",
              "  'Concrete_Strength': 20.202408657818676,\n",
              "  'Foundation_Depth': 30.13595831298439},\n",
              " 'Building_Height')"
            ]
          },
          "metadata": {},
          "execution_count": 6
        }
      ]
    },
    {
      "cell_type": "code",
      "source": [],
      "metadata": {
        "id": "aMYcP6G6mF4A"
      },
      "execution_count": null,
      "outputs": []
    }
  ]
}