{
  "nbformat": 4,
  "nbformat_minor": 0,
  "metadata": {
    "colab": {
      "provenance": [],
      "authorship_tag": "ABX9TyMZzAxLihf2N+Mu9lhDAAbv",
      "include_colab_link": true
    },
    "kernelspec": {
      "name": "python3",
      "display_name": "Python 3"
    },
    "language_info": {
      "name": "python"
    }
  },
  "cells": [
    {
      "cell_type": "markdown",
      "metadata": {
        "id": "view-in-github",
        "colab_type": "text"
      },
      "source": [
        "<a href=\"https://colab.research.google.com/github/Burra-Tarun-Kumar/Assignment/blob/main/day16.ipynb\" target=\"_parent\"><img src=\"https://colab.research.google.com/assets/colab-badge.svg\" alt=\"Open In Colab\"/></a>"
      ]
    },
    {
      "cell_type": "code",
      "execution_count": 7,
      "metadata": {
        "colab": {
          "base_uri": "https://localhost:8080/"
        },
        "id": "jIz-xhCfcyJM",
        "outputId": "989fece6-2e55-4b55-e9f8-4bf1807cc9f3"
      },
      "outputs": [
        {
          "output_type": "stream",
          "name": "stdout",
          "text": [
            "Dataset Info:\n",
            "<class 'pandas.core.frame.DataFrame'>\n",
            "RangeIndex: 505 entries, 0 to 504\n",
            "Data columns (total 7 columns):\n",
            " #   Column          Non-Null Count  Dtype  \n",
            "---  ------          --------------  -----  \n",
            " 0   Patient_ID      505 non-null    int64  \n",
            " 1   Age             505 non-null    int64  \n",
            " 2   Gender          484 non-null    object \n",
            " 3   Blood_Pressure  475 non-null    float64\n",
            " 4   Cholesterol     485 non-null    float64\n",
            " 5   Diabetes        505 non-null    object \n",
            " 6   Heart_Disease   505 non-null    object \n",
            "dtypes: float64(2), int64(2), object(3)\n",
            "memory usage: 27.7+ KB\n",
            "\n",
            "Summary Statistics:\n",
            "       Patient_ID         Age  Blood_Pressure  Cholesterol\n",
            "count  505.000000  505.000000      475.000000   485.000000\n",
            "mean   249.693069   52.918812      133.412632   200.470103\n",
            "std    144.240508   21.064700       25.933424    58.533857\n",
            "min      1.000000   18.000000       90.000000   101.000000\n",
            "25%    126.000000   34.000000      111.000000   149.000000\n",
            "50%    249.000000   52.000000      132.000000   207.000000\n",
            "75%    374.000000   71.000000      155.000000   249.000000\n",
            "max    500.000000   89.000000      179.000000   299.000000\n",
            "\n",
            "Missing Values:\n",
            "Patient_ID         0\n",
            "Age                0\n",
            "Gender            21\n",
            "Blood_Pressure    30\n",
            "Cholesterol       20\n",
            "Diabetes           0\n",
            "Heart_Disease      0\n",
            "dtype: int64\n",
            "\n",
            "Final Missing Values:\n",
            "Patient_ID        0\n",
            "Age               0\n",
            "Gender            0\n",
            "Blood_Pressure    0\n",
            "Cholesterol       0\n",
            "Diabetes          0\n",
            "Heart_Disease     0\n",
            "dtype: int64\n",
            "\n",
            "Final Duplicates: 0\n",
            "\n",
            "Data Types:\n",
            "Patient_ID        float64\n",
            "Age               float64\n",
            "Gender              int64\n",
            "Blood_Pressure    float64\n",
            "Cholesterol       float64\n",
            "Diabetes            int64\n",
            "Heart_Disease       int64\n",
            "dtype: object\n"
          ]
        },
        {
          "output_type": "stream",
          "name": "stderr",
          "text": [
            "<ipython-input-7-61ce5e060e85>:21: FutureWarning: A value is trying to be set on a copy of a DataFrame or Series through chained assignment using an inplace method.\n",
            "The behavior will change in pandas 3.0. This inplace method will never work because the intermediate object on which we are setting values always behaves as a copy.\n",
            "\n",
            "For example, when doing 'df[col].method(value, inplace=True)', try using 'df.method({col: value}, inplace=True)' or df[col] = df[col].method(value) instead, to perform the operation inplace on the original object.\n",
            "\n",
            "\n",
            "  df[col].fillna(df[col].median(), inplace=True)  # Median for numerical\n",
            "<ipython-input-7-61ce5e060e85>:24: FutureWarning: A value is trying to be set on a copy of a DataFrame or Series through chained assignment using an inplace method.\n",
            "The behavior will change in pandas 3.0. This inplace method will never work because the intermediate object on which we are setting values always behaves as a copy.\n",
            "\n",
            "For example, when doing 'df[col].method(value, inplace=True)', try using 'df.method({col: value}, inplace=True)' or df[col] = df[col].method(value) instead, to perform the operation inplace on the original object.\n",
            "\n",
            "\n",
            "  df[col].fillna(df[col].mode()[0], inplace=True)  # Mode for categorical\n"
          ]
        }
      ],
      "source": [
        "import pandas as pd\n",
        "import numpy as np\n",
        "import seaborn as sns\n",
        "import matplotlib.pyplot as plt\n",
        "from sklearn.impute import KNNImputer\n",
        "from sklearn.preprocessing import MinMaxScaler, StandardScaler, LabelEncoder\n",
        "\n",
        "# Load the dataset\n",
        "df = pd.read_csv(\"/content/Day_16_Healthcare_Data.csv\")  # Replace with actual file path\n",
        "\n",
        "# Initial Exploratory Data Analysis\n",
        "print(\"Dataset Info:\")\n",
        "df.info()\n",
        "print(\"\\nSummary Statistics:\")\n",
        "print(df.describe())\n",
        "print(\"\\nMissing Values:\")\n",
        "print(df.isna().sum())\n",
        "\n",
        "# Handling Missing Data\n",
        "for col in df.select_dtypes(include=['number']).columns:\n",
        "    df[col].fillna(df[col].median(), inplace=True)  # Median for numerical\n",
        "\n",
        "for col in df.select_dtypes(include=['object']).columns:\n",
        "    df[col].fillna(df[col].mode()[0], inplace=True)  # Mode for categorical\n",
        "\n",
        "# Detect and Handle Duplicates\n",
        "df.drop_duplicates(inplace=True)\n",
        "\n",
        "# Detect and Handle Outliers\n",
        "for col in df.select_dtypes(include=['number']).columns:\n",
        "    q1 = df[col].quantile(0.25)\n",
        "    q3 = df[col].quantile(0.75)\n",
        "    iqr = q3 - q1\n",
        "    lower_bound = q1 - 1.5 * iqr\n",
        "    upper_bound = q3 + 1.5 * iqr\n",
        "    df[col] = np.where(df[col] < lower_bound, lower_bound, df[col])\n",
        "    df[col] = np.where(df[col] > upper_bound, upper_bound, df[col])\n",
        "\n",
        "# Standardize and Normalize Data\n",
        "scaler = MinMaxScaler()\n",
        "df[df.select_dtypes(include=['number']).columns] = scaler.fit_transform(df.select_dtypes(include=['number']))\n",
        "\n",
        "# Convert categorical variables to numerical\n",
        "encoder = LabelEncoder()\n",
        "for col in df.select_dtypes(include=['object']).columns:\n",
        "    df[col] = encoder.fit_transform(df[col])\n",
        "\n",
        "# Data Validation\n",
        "print(\"\\nFinal Missing Values:\")\n",
        "print(df.isna().sum())\n",
        "print(\"\\nFinal Duplicates:\", df.duplicated().sum())\n",
        "print(\"\\nData Types:\")\n",
        "print(df.dtypes)\n",
        "\n",
        "# Save the cleaned dataset\n",
        "df.to_csv(\"cleaned_healthcare_dataset.csv\", index=False)\n"
      ]
    },
    {
      "cell_type": "code",
      "source": [],
      "metadata": {
        "id": "m9cXoQMWdLG4"
      },
      "execution_count": 5,
      "outputs": []
    },
    {
      "cell_type": "code",
      "source": [],
      "metadata": {
        "id": "k_rw3FjZeq9u"
      },
      "execution_count": null,
      "outputs": []
    }
  ]
}