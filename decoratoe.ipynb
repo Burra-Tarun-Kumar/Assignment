{
  "nbformat": 4,
  "nbformat_minor": 0,
  "metadata": {
    "colab": {
      "provenance": [],
      "authorship_tag": "ABX9TyP3z/64xRmzPnIA3ADN5AwO",
      "include_colab_link": true
    },
    "kernelspec": {
      "name": "python3",
      "display_name": "Python 3"
    },
    "language_info": {
      "name": "python"
    }
  },
  "cells": [
    {
      "cell_type": "markdown",
      "metadata": {
        "id": "view-in-github",
        "colab_type": "text"
      },
      "source": [
        "<a href=\"https://colab.research.google.com/github/Burra-Tarun-Kumar/Assignment/blob/main/decoratoe.ipynb\" target=\"_parent\"><img src=\"https://colab.research.google.com/assets/colab-badge.svg\" alt=\"Open In Colab\"/></a>"
      ]
    },
    {
      "cell_type": "code",
      "execution_count": 11,
      "metadata": {
        "colab": {
          "base_uri": "https://localhost:8080/"
        },
        "id": "GeHqU8JEA9A-",
        "outputId": "5b77dfef-22fc-46ee-8c93-5da3002fed42"
      },
      "outputs": [
        {
          "output_type": "stream",
          "name": "stdout",
          "text": [
            "2.0\n"
          ]
        }
      ],
      "source": [
        "def dev_dec(func):\n",
        "  def inner(a,b):\n",
        "    if a<b:\n",
        "      a,b=b,a\n",
        "    return func(a,b)\n",
        "  return inner\n",
        "@dev_dec\n",
        "def div(a,b):\n",
        "  return a/b\n",
        "print(div(2,4))"
      ]
    },
    {
      "cell_type": "code",
      "source": [],
      "metadata": {
        "id": "9lmau6BoBrWT"
      },
      "execution_count": null,
      "outputs": []
    }
  ]
}