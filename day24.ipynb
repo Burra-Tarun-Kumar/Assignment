{
  "nbformat": 4,
  "nbformat_minor": 0,
  "metadata": {
    "colab": {
      "provenance": [],
      "authorship_tag": "ABX9TyNOli+zCEUN/qkxdzaK0pgX",
      "include_colab_link": true
    },
    "kernelspec": {
      "name": "python3",
      "display_name": "Python 3"
    },
    "language_info": {
      "name": "python"
    }
  },
  "cells": [
    {
      "cell_type": "markdown",
      "metadata": {
        "id": "view-in-github",
        "colab_type": "text"
      },
      "source": [
        "<a href=\"https://colab.research.google.com/github/Burra-Tarun-Kumar/Assignment/blob/main/day24.ipynb\" target=\"_parent\"><img src=\"https://colab.research.google.com/assets/colab-badge.svg\" alt=\"Open In Colab\"/></a>"
      ]
    },
    {
      "cell_type": "code",
      "execution_count": 5,
      "metadata": {
        "colab": {
          "base_uri": "https://localhost:8080/"
        },
        "id": "xlnYOW8teWLc",
        "outputId": "d4e85963-ca8e-408f-8ad2-2d22ee7082dd"
      },
      "outputs": [
        {
          "output_type": "execute_result",
          "data": {
            "text/plain": [
              "(992.1885574140761, 49.67275240826704, 42990.64782261945, 0.9251224612323216)"
            ]
          },
          "metadata": {},
          "execution_count": 5
        }
      ],
      "source": [
        "from sklearn.model_selection import train_test_split\n",
        "from sklearn.linear_model import LinearRegression\n",
        "from sklearn.metrics import mean_squared_error, r2_score\n",
        "\n",
        "# Define independent (X) and dependent (y) variables\n",
        "X = df[[\"Building_Height\"]]\n",
        "y = df[\"Construction_Cost\"]\n",
        "\n",
        "# Split the data into training and testing sets (80% train, 20% test)\n",
        "X_train, X_test, y_train, y_test = train_test_split(X, y, test_size=0.2, random_state=42)\n",
        "\n",
        "# Create and train the linear regression model\n",
        "model = LinearRegression()\n",
        "model.fit(X_train, y_train)\n",
        "\n",
        "# Get the regression coefficients\n",
        "intercept = model.intercept_\n",
        "slope = model.coef_[0]\n",
        "\n",
        "# Predict on the test set\n",
        "y_pred = model.predict(X_test)\n",
        "\n",
        "# Evaluate model performance\n",
        "mse = mean_squared_error(y_test, y_pred)\n",
        "r2 = r2_score(y_test, y_pred)\n",
        "\n",
        "# Display results\n",
        "(intercept, slope, mse, r2)\n"
      ]
    },
    {
      "cell_type": "code",
      "source": [
        "/content/Civil_Engineering_Regression_Dataset.csv"
      ],
      "metadata": {
        "colab": {
          "base_uri": "https://localhost:8080/"
        },
        "id": "AIcZ1Xmxjm1R",
        "outputId": "12798e66-c5b8-461e-f62f-b7cf475e52cf"
      },
      "execution_count": 8,
      "outputs": [
        {
          "output_type": "execute_result",
          "data": {
            "text/plain": [
              "(0.9998023074199777,\n",
              " 0.9997317029271126,\n",
              "                   Feature       VIF\n",
              " 0         Building_Height  1.047164\n",
              " 1  Material_Quality_Index  1.048067\n",
              " 2              Labor_Cost  1.054086\n",
              " 3       Concrete_Strength  1.019701\n",
              " 4        Foundation_Depth  1.040594)"
            ]
          },
          "metadata": {},
          "execution_count": 8
        }
      ]
    },
    {
      "cell_type": "code",
      "source": [],
      "metadata": {
        "id": "aMYcP6G6mF4A"
      },
      "execution_count": null,
      "outputs": []
    }
  ]
}